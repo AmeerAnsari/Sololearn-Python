{
 "cells": [
  {
   "cell_type": "markdown",
   "metadata": {},
   "source": [
    "## Regular Expressions\n",
    "\n",
    "_Regular Expressions_ are a powerful tool for various kinds of sting manipulation.\n",
    "* They are `domain specific language (DSL) that is present as a libaray in most modern programming languages, not just in python.\n",
    "\n",
    "They are useful for two main tasks:\n",
    "- verifying that stings match a **pattern** (for instance, that a sting has the format of an email address).\n",
    "- performing substitution in a sting (such as changing all American spellings to British ones.)"
   ]
  },
  {
   "cell_type": "markdown",
   "metadata": {},
   "source": [
    "**Domain Specific Languages** are highly specialized mini programming langugaes.\n",
    "_Regular expressions_ are a popular example, and _SQL_ (for database manipulation) is another.\n",
    "Private domain-specific languages ar often used for specific industrial purposes.\n"
   ]
  },
  {
   "cell_type": "markdown",
   "metadata": {},
   "source": [
    "Regular expression in Python can be accessed using the `re` module, which is part of the standard library.\n",
    "\n",
    "- After you've defined a regular epression, the `re.match` function can be used to determine whether it matches at the _beginning_ of a sting. If it match is returns the object, otherwise the `None` is rertured.\n",
    "\n",
    "- To avoid any confusion while working with regular expressions, we would use raw stings as `r\"expression\"`.\n",
    "\n",
    "- Raw strings don't escape anything, which makes use of regular expressions easier."
   ]
  },
  {
   "cell_type": "code",
   "execution_count": 10,
   "metadata": {},
   "outputs": [
    {
     "name": "stdout",
     "output_type": "stream",
     "text": [
      "Match\n"
     ]
    }
   ],
   "source": [
    "import re\n",
    "\n",
    "pattern = r\"spam\"\n",
    "\n",
    "\n",
    "if re.match(pattern, \"spamspamspam\"):\n",
    "    print(\"Match\")\n",
    "else:\n",
    "    print(\"No match\")"
   ]
  },
  {
   "cell_type": "markdown",
   "metadata": {},
   "source": [
    "**The above example checks if the pattern \"spam\" matches the sting and prints \"Match\" if it does.**\n",
    "\n",
    "- Here the pattern is a simple word, but there are various charaters, which would have special meaning when they are used in a regular expression."
   ]
  },
  {
   "cell_type": "markdown",
   "metadata": {},
   "source": [
    "Other functions to match patterns are `re.search` and `re.findall`.\n",
    "- The function `re.search` find a match of a pattern anywhere in the sting.\n",
    "- The function `re.findall` returns a list of all substings that match a pattern. "
   ]
  },
  {
   "cell_type": "code",
   "execution_count": 9,
   "metadata": {},
   "outputs": [
    {
     "name": "stdout",
     "output_type": "stream",
     "text": [
      "No match\n",
      "Match\n",
      "['spam', 'spam']\n"
     ]
    }
   ],
   "source": [
    "import re\n",
    "\n",
    "pattern = r\"spam\"\n",
    "\n",
    "\n",
    "# funciton re.match - match if pressent\n",
    "if re.match(pattern, \"eggspamsausagespam\"):\n",
    "    print(\"Match\")\n",
    "else:\n",
    "    print(\"No match\")\n",
    "\n",
    "# funciton re.search\n",
    "if re.search(pattern, \"eggspamsausagespam\"):\n",
    "    print(\"Match\")\n",
    "else:\n",
    "    print(\"No match\")\n",
    "\n",
    "\n",
    "# funciton re.findall\n",
    "print(re.findall(pattern, \"eggspamsausagespam\"))"
   ]
  },
  {
   "cell_type": "markdown",
   "metadata": {},
   "source": [
    "In the example above, the `match` function did not match the pattern, as it looks at the beginning of the sting. The search function found a match in the sting.\n",
    "\n",
    "- The function `re.finditer` does the same thing as `re-findall`, except it returns an iterator, rather than a list. "
   ]
  },
  {
   "cell_type": "markdown",
   "metadata": {},
   "source": [
    "\n",
    "The *regex search* returns an object with severl methods that give details about it.\n",
    "\n",
    "- These mehtods include `group` which returns the string matched, `start` and `end` which return the start and ending positions of the first matchm and `span` which returns the start and end postions of the first match as a tuple.\n"
   ]
  },
  {
   "cell_type": "code",
   "execution_count": 11,
   "metadata": {},
   "outputs": [
    {
     "name": "stdout",
     "output_type": "stream",
     "text": [
      "pam\n",
      "4\n",
      "7\n",
      "(4, 7)\n"
     ]
    }
   ],
   "source": [
    "import re\n",
    "\n",
    "pattern = r\"pam\"\n",
    "\n",
    "match = re.search(pattern, \"eggspamsausage\")\n",
    "if match:\n",
    "    print(match.group())\n",
    "    print(match.start())\n",
    "    print(match.end())\n",
    "    print(match.span())"
   ]
  },
  {
   "cell_type": "markdown",
   "metadata": {},
   "source": [
    "This method replaces all occurrences of the **pattern** in string with **repl**, substituting all occurrences, unless **count** provided. This method returns the modified sting."
   ]
  },
  {
   "cell_type": "code",
   "execution_count": 1,
   "metadata": {},
   "outputs": [
    {
     "name": "stdout",
     "output_type": "stream",
     "text": [
      "My naem is Amy. Hi Amy.\n"
     ]
    }
   ],
   "source": [
    "import re\n",
    "\n",
    "str = \"My naem is David. Hi David.\"\n",
    "\n",
    "pattern = r\"David\"\n",
    "newstr = re.sub(pattern, \"Amy\", str)\n",
    "print(newstr)\n"
   ]
  },
  {
   "cell_type": "markdown",
   "metadata": {},
   "source": [
    "- Test Regular Expression"
   ]
  },
  {
   "cell_type": "code",
   "execution_count": 3,
   "metadata": {},
   "outputs": [
    {
     "name": "stdout",
     "output_type": "stream",
     "text": [
      "0700005650745\n"
     ]
    }
   ],
   "source": [
    "import re\n",
    "\n",
    "num = \"0799995659745\"\n",
    "pattern =r\"9\"\n",
    "\n",
    "num = re.sub(pattern, \"0\", num)\n",
    "print(num)\n"
   ]
  },
  {
   "cell_type": "markdown",
   "metadata": {},
   "source": [
    "### Metacharaters\n",
    "\n"
   ]
  },
  {
   "cell_type": "markdown",
   "metadata": {},
   "source": [
    "**Metacharaters** are what make regular expressions more powerful than nomal sting methods.\n",
    "\n",
    "They allow you to create regular expressions to reprsent concepts like \"one or more repetitons of a vowel.\"\n",
    "\n",
    "- The existence of metacharacters poses a problem if you want to create a __regular expression (or regex)__ that matches a literal metacharacter, such as `$`. You can do this by escaping the metacharacters by putting a backslash in front of them.\n",
    "However, this can cause problems, since backslashes also have an escaping function in normal Python strings. This can mean putting three or four backslashes in a row to do all the escaping."
   ]
  },
  {
   "cell_type": "markdown",
   "metadata": {},
   "source": [
    "* To avoid this, you can use a raw string, which is a normal string with an `r` in front of it. We saw usage of raw strings in the previous lesson."
   ]
  },
  {
   "cell_type": "code",
   "execution_count": 4,
   "metadata": {},
   "outputs": [],
   "source": [
    "# Metacharacters example\n",
    "str = r\"I am \\r\\a\\w\""
   ]
  },
  {
   "cell_type": "markdown",
   "metadata": {},
   "source": [
    "The first metacharacter we will look at is . __(dot)__.\n",
    "This matches __any character__, other than a new line."
   ]
  },
  {
   "cell_type": "code",
   "execution_count": 5,
   "metadata": {},
   "outputs": [
    {
     "name": "stdout",
     "output_type": "stream",
     "text": [
      "Match 1\n",
      "Match 2\n"
     ]
    }
   ],
   "source": [
    "import re\n",
    "\n",
    "pattern = r\"gr.y\"\n",
    "\n",
    "if re.match(pattern, \"grey\"):\n",
    "    print(\"Match 1\")\n",
    "\n",
    "if re.match(pattern, \"gray\"):\n",
    "    print(\"Match 2\")\n",
    "\n",
    "if re.match(pattern, \"blue\"):\n",
    "    print(\"Match 3\")"
   ]
  },
  {
   "cell_type": "markdown",
   "metadata": {},
   "source": [
    "What would '....' watch! \n",
    "- Any four charater sting with no newlines"
   ]
  },
  {
   "cell_type": "markdown",
   "metadata": {},
   "source": [
    "The next two metacharacters are `^` and `$`.\n",
    "These match the **start** and **end** of a string, respectively."
   ]
  },
  {
   "cell_type": "code",
   "execution_count": 7,
   "metadata": {},
   "outputs": [
    {
     "name": "stdout",
     "output_type": "stream",
     "text": [
      "Match 1\n",
      "Match 2\n"
     ]
    }
   ],
   "source": [
    "import re\n",
    "\n",
    "pattern = r\"^gr.y$\"\n",
    "\n",
    "if re.match(pattern, \"grey\"):\n",
    "    print('Match 1')\n",
    "if re.match(pattern, \"gray\"):\n",
    "    print('Match 2')\n",
    "if re.match(pattern, \"stingray\"):\n",
    "    print('Match 3')"
   ]
  },
  {
   "cell_type": "markdown",
   "metadata": {},
   "source": [
    "The pattern `\"^gr.y$\"` means that the string should start with __gr__, then follow with any character, except a newline, and end with __y__."
   ]
  },
  {
   "cell_type": "code",
   "execution_count": 12,
   "metadata": {},
   "outputs": [
    {
     "name": "stdout",
     "output_type": "stream",
     "text": [
      "Match 1\n",
      "Match 2\n"
     ]
    }
   ],
   "source": [
    "#Creat a pattern that matches stings that contain 3 charaters, out of which the last character is an exclamation mark.\n",
    "\n",
    "import re\n",
    "\n",
    "pattern = r\"..!\"\n",
    "\n",
    "if re.match(pattern, \"re!\"):\n",
    "    print('Match 1')\n",
    "if re.match(pattern, \"ra\"):\n",
    "    print('Match 2')\n",
    "if re.match(pattern, \"stingray!\"):\n",
    "    print('Match 3')"
   ]
  },
  {
   "cell_type": "markdown",
   "metadata": {},
   "source": [
    "### Charater Classes"
   ]
  },
  {
   "cell_type": "markdown",
   "metadata": {},
   "source": [
    "__Character classes__ provide a way to match only one of a specific set of characters.\n",
    "A character class is created by putting the characters it matches inside __square brackets__."
   ]
  },
  {
   "cell_type": "code",
   "execution_count": 20,
   "metadata": {},
   "outputs": [
    {
     "name": "stdout",
     "output_type": "stream",
     "text": [
      "Match 1\n",
      "Match 2\n"
     ]
    }
   ],
   "source": [
    "import re\n",
    "\n",
    "pattern = r\"[aeiou]\"\n",
    "\n",
    "if re.search(pattern, \"grey\"):\n",
    "    print(\"Match 1\")\n",
    "\n",
    "if re.search(pattern, \"qwertyuiop\"):\n",
    "    print(\"Match 2\")\n",
    "\n",
    "if re.search(pattern, \"rhythm myths\"):\n",
    "    print(\"Match 3\")"
   ]
  }
 ],
 "metadata": {
  "interpreter": {
   "hash": "7c5096c51ab2c942edbf73161d720b9b3181a81183ff8f2301994950c268382d"
  },
  "kernelspec": {
   "display_name": "Python 3.8.5 ('base')",
   "language": "python",
   "name": "python3"
  },
  "language_info": {
   "codemirror_mode": {
    "name": "ipython",
    "version": 3
   },
   "file_extension": ".py",
   "mimetype": "text/x-python",
   "name": "python",
   "nbconvert_exporter": "python",
   "pygments_lexer": "ipython3",
   "version": "3.8.5"
  },
  "orig_nbformat": 4
 },
 "nbformat": 4,
 "nbformat_minor": 2
}
